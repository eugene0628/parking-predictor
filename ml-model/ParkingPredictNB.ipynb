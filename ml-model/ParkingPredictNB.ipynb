{
 "cells": [
  {
   "cell_type": "code",
   "execution_count": 1,
   "id": "6dbe60f6-be77-4290-a66d-a3d59ddf10be",
   "metadata": {},
   "outputs": [
    {
     "name": "stdout",
     "output_type": "stream",
     "text": [
      "Collecting mlforecast\n",
      "  Downloading mlforecast-0.9.3-py3-none-any.whl (48 kB)\n",
      "\u001b[2K     \u001b[90m━━━━━━━━━━━━━━━━━━━━━━━━━━━━━━━━━━━━━━━\u001b[0m \u001b[32m48.1/48.1 kB\u001b[0m \u001b[31m844.4 kB/s\u001b[0m eta \u001b[36m0:00:00\u001b[0m \u001b[36m0:00:01\u001b[0m\n",
      "\u001b[?25hRequirement already satisfied: pandas in /Users/antonio/miniconda3/lib/python3.10/site-packages (from mlforecast) (2.1.1)\n",
      "Collecting window-ops\n",
      "  Downloading window_ops-0.0.14-py3-none-any.whl (14 kB)\n",
      "Requirement already satisfied: scikit-learn in /Users/antonio/miniconda3/lib/python3.10/site-packages (from mlforecast) (1.3.0)\n",
      "Collecting numba\n",
      "  Downloading numba-0.58.0-cp310-cp310-macosx_10_9_x86_64.whl (2.6 MB)\n",
      "\u001b[2K     \u001b[90m━━━━━━━━━━━━━━━━━━━━━━━━━━━━━━━━━━━━━━━━\u001b[0m \u001b[32m2.6/2.6 MB\u001b[0m \u001b[31m13.9 MB/s\u001b[0m eta \u001b[36m0:00:00\u001b[0m00:01\u001b[0m00:01\u001b[0m\n",
      "\u001b[?25hCollecting llvmlite<0.42,>=0.41.0dev0\n",
      "  Downloading llvmlite-0.41.0-cp310-cp310-macosx_10_9_x86_64.whl (31.0 MB)\n",
      "\u001b[2K     \u001b[90m━━━━━━━━━━━━━━━━━━━━━━━━━━━━━━━━━━━━━━━━\u001b[0m \u001b[32m31.0/31.0 MB\u001b[0m \u001b[31m13.1 MB/s\u001b[0m eta \u001b[36m0:00:00\u001b[0m00:01\u001b[0m00:01\u001b[0m\n",
      "\u001b[?25hCollecting numpy<1.26,>=1.21\n",
      "  Downloading numpy-1.25.2-cp310-cp310-macosx_10_9_x86_64.whl (20.8 MB)\n",
      "\u001b[2K     \u001b[90m━━━━━━━━━━━━━━━━━━━━━━━━━━━━━━━━━━━━━━━━\u001b[0m \u001b[32m20.8/20.8 MB\u001b[0m \u001b[31m13.2 MB/s\u001b[0m eta \u001b[36m0:00:00\u001b[0m00:01\u001b[0m00:01\u001b[0m\n",
      "\u001b[?25hRequirement already satisfied: python-dateutil>=2.8.2 in /Users/antonio/miniconda3/lib/python3.10/site-packages (from pandas->mlforecast) (2.8.2)\n",
      "Requirement already satisfied: pytz>=2020.1 in /Users/antonio/miniconda3/lib/python3.10/site-packages (from pandas->mlforecast) (2023.3.post1)\n",
      "Requirement already satisfied: tzdata>=2022.1 in /Users/antonio/miniconda3/lib/python3.10/site-packages (from pandas->mlforecast) (2023.3)\n",
      "Requirement already satisfied: joblib>=1.1.1 in /Users/antonio/miniconda3/lib/python3.10/site-packages (from scikit-learn->mlforecast) (1.3.2)\n",
      "Requirement already satisfied: threadpoolctl>=2.0.0 in /Users/antonio/miniconda3/lib/python3.10/site-packages (from scikit-learn->mlforecast) (3.2.0)\n",
      "Requirement already satisfied: scipy>=1.5.0 in /Users/antonio/miniconda3/lib/python3.10/site-packages (from scikit-learn->mlforecast) (1.11.2)\n",
      "Requirement already satisfied: six>=1.5 in /Users/antonio/miniconda3/lib/python3.10/site-packages (from python-dateutil>=2.8.2->pandas->mlforecast) (1.16.0)\n",
      "Installing collected packages: numpy, llvmlite, numba, window-ops, mlforecast\n",
      "  Attempting uninstall: numpy\n",
      "    Found existing installation: numpy 1.26.0\n",
      "    Uninstalling numpy-1.26.0:\n",
      "      Successfully uninstalled numpy-1.26.0\n",
      "Successfully installed llvmlite-0.41.0 mlforecast-0.9.3 numba-0.58.0 numpy-1.25.2 window-ops-0.0.14\n",
      "Requirement already satisfied: matplotlib in /Users/antonio/miniconda3/lib/python3.10/site-packages (3.8.0)\n",
      "Requirement already satisfied: kiwisolver>=1.0.1 in /Users/antonio/miniconda3/lib/python3.10/site-packages (from matplotlib) (1.4.5)\n",
      "Requirement already satisfied: pyparsing>=2.3.1 in /Users/antonio/miniconda3/lib/python3.10/site-packages (from matplotlib) (3.1.1)\n",
      "Requirement already satisfied: contourpy>=1.0.1 in /Users/antonio/miniconda3/lib/python3.10/site-packages (from matplotlib) (1.1.1)\n",
      "Requirement already satisfied: fonttools>=4.22.0 in /Users/antonio/miniconda3/lib/python3.10/site-packages (from matplotlib) (4.42.1)\n",
      "Requirement already satisfied: packaging>=20.0 in /Users/antonio/miniconda3/lib/python3.10/site-packages (from matplotlib) (23.1)\n",
      "Requirement already satisfied: python-dateutil>=2.7 in /Users/antonio/miniconda3/lib/python3.10/site-packages (from matplotlib) (2.8.2)\n",
      "Requirement already satisfied: numpy<2,>=1.21 in /Users/antonio/miniconda3/lib/python3.10/site-packages (from matplotlib) (1.25.2)\n",
      "Requirement already satisfied: cycler>=0.10 in /Users/antonio/miniconda3/lib/python3.10/site-packages (from matplotlib) (0.11.0)\n",
      "Requirement already satisfied: pillow>=6.2.0 in /Users/antonio/miniconda3/lib/python3.10/site-packages (from matplotlib) (9.4.0)\n",
      "Requirement already satisfied: six>=1.5 in /Users/antonio/miniconda3/lib/python3.10/site-packages (from python-dateutil>=2.7->matplotlib) (1.16.0)\n"
     ]
    }
   ],
   "source": [
    "!pip3 install mlforecast\n",
    "!pip3 install matplotlib"
   ]
  },
  {
   "cell_type": "code",
   "execution_count": 4,
   "id": "0f2bc7ec-0724-44fc-bb05-3ceb5d699b93",
   "metadata": {},
   "outputs": [
    {
     "name": "stdout",
     "output_type": "stream",
     "text": [
      "                        ts    y1\n",
      "0      2016-11-09 13:03:00   0.0\n",
      "1      2016-11-09 13:04:00   0.0\n",
      "2      2016-11-09 13:05:00   0.0\n",
      "3      2016-11-09 13:06:00   0.0\n",
      "4      2016-11-09 13:07:00   0.0\n",
      "...                    ...   ...\n",
      "12892  2016-11-18 11:55:00  82.0\n",
      "12893  2016-11-18 11:56:00  79.0\n",
      "12894  2016-11-18 11:57:00  84.0\n",
      "12895  2016-11-18 11:58:00  88.0\n",
      "12896  2016-11-18 11:59:00  87.0\n",
      "\n",
      "[12897 rows x 2 columns]\n"
     ]
    }
   ],
   "source": [
    "# Load data\n",
    "import pandas as pd\n",
    "import numpy as np\n",
    "from matplotlib import pyplot as plt\n",
    "\n",
    "path1 = 'Sign1_full_fitted.csv'\n",
    "data1 = pd.read_csv(path1, usecols=[0,1], header=0)\n",
    "print(data1)\n"
   ]
  },
  {
   "cell_type": "code",
   "execution_count": 5,
   "id": "566c02ab-3b6d-4c11-bf2b-18233b37cfcd",
   "metadata": {},
   "outputs": [
    {
     "name": "stdout",
     "output_type": "stream",
     "text": [
      "                        ts    y12\n",
      "0      2016-11-09 13:03:00    0.0\n",
      "1      2016-11-09 13:04:00    0.0\n",
      "2      2016-11-09 13:05:00    0.0\n",
      "3      2016-11-09 13:06:00    0.0\n",
      "4      2016-11-09 13:07:00    0.0\n",
      "...                    ...    ...\n",
      "12892  2016-11-18 11:55:00  340.0\n",
      "12893  2016-11-18 11:56:00  340.0\n",
      "12894  2016-11-18 11:57:00  336.0\n",
      "12895  2016-11-18 11:58:00  334.0\n",
      "12896  2016-11-18 11:59:00  335.0\n",
      "\n",
      "[12897 rows x 2 columns]\n"
     ]
    }
   ],
   "source": [
    "path2 = 'Sign12_full_fitted.csv'\n",
    "data2 = pd.read_csv(path2, usecols=[0,1], header=0)\n",
    "print(data2)"
   ]
  },
  {
   "cell_type": "code",
   "execution_count": 6,
   "id": "834450c5-601a-4a60-8655-a88c3f98df1f",
   "metadata": {},
   "outputs": [
    {
     "name": "stdout",
     "output_type": "stream",
     "text": [
      "                        ts    y14\n",
      "0      2016-11-09 13:03:00   20.0\n",
      "1      2016-11-09 13:04:00   20.0\n",
      "2      2016-11-09 13:05:00   20.0\n",
      "3      2016-11-09 13:06:00   16.0\n",
      "4      2016-11-09 13:07:00   16.0\n",
      "...                    ...    ...\n",
      "12892  2016-11-18 11:55:00  333.0\n",
      "12893  2016-11-18 11:56:00  334.0\n",
      "12894  2016-11-18 11:57:00  335.0\n",
      "12895  2016-11-18 11:58:00  336.0\n",
      "12896  2016-11-18 11:59:00  335.0\n",
      "\n",
      "[12897 rows x 2 columns]\n"
     ]
    }
   ],
   "source": [
    "path4 = 'Sign14_full_fitted.csv'\n",
    "data4 = pd.read_csv(path4, usecols=[0,1], header=0)\n",
    "print(data4)"
   ]
  },
  {
   "cell_type": "code",
   "execution_count": 13,
   "id": "154555cf-a42b-427e-b87f-f06a96a80cb8",
   "metadata": {},
   "outputs": [],
   "source": [
    "train = data1.loc[:,:]\n",
    "valid = data2.loc[:,:]"
   ]
  },
  {
   "cell_type": "code",
   "execution_count": 14,
   "id": "211e3e62-09ba-4c31-841f-08a51074f79d",
   "metadata": {},
   "outputs": [],
   "source": [
    "from sklearn.ensemble import RandomForestRegressor, ExtraTreesRegressor\n",
    "\n",
    "models = [RandomForestRegressor(random_state=0, n_estimators=100),\n",
    "          ExtraTreesRegressor(random_state=0, n_estimators=100)]"
   ]
  },
  {
   "cell_type": "code",
   "execution_count": 15,
   "id": "8cf84337-cb7d-4a39-a373-a0385c78fbdd",
   "metadata": {},
   "outputs": [],
   "source": [
    "from numba import njit\n",
    "\n",
    "@njit\n",
    "def diff(x, lag):\n",
    "    x2 = np.full_like(x, np.nan)\n",
    "    for i in range(lag, len(x)):\n",
    "        x2[i] = x[i] - x[i-lag]\n",
    "    return x2"
   ]
  },
  {
   "cell_type": "code",
   "execution_count": 18,
   "id": "d90156c3-fefc-47a2-9cc8-df1f84aefaa3",
   "metadata": {},
   "outputs": [],
   "source": [
    "from window_ops.rolling import rolling_mean\n",
    "from mlforecast import MLForecast\n",
    "\n",
    "model = MLForecast(models=models,\n",
    "                   freq='D',\n",
    "                   lags=[1,7,14],\n",
    "                   lag_transforms={\n",
    "                       1: [(rolling_mean, 3), (rolling_mean, 7), (rolling_mean, 28), (diff, 1), (diff, 7)],\n",
    "                   },\n",
    "                   date_features=['dayofweek'],\n",
    "                   num_threads=6)"
   ]
  }
 ],
 "metadata": {
  "kernelspec": {
   "display_name": "Python 3 (ipykernel)",
   "language": "python",
   "name": "python3"
  },
  "language_info": {
   "codemirror_mode": {
    "name": "ipython",
    "version": 3
   },
   "file_extension": ".py",
   "mimetype": "text/x-python",
   "name": "python",
   "nbconvert_exporter": "python",
   "pygments_lexer": "ipython3",
   "version": "3.10.13"
  }
 },
 "nbformat": 4,
 "nbformat_minor": 5
}
