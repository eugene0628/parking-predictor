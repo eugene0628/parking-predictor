{
 "cells": [
  {
   "cell_type": "code",
   "execution_count": null,
   "id": "0f2bc7ec-0724-44fc-bb05-3ceb5d699b93",
   "metadata": {},
   "outputs": [],
   "source": [
    "# Load data\n",
    "import pandas as pd\n",
    "import numpy as np\n",
    "from matplotlib import pyplot as plt\n",
    "\n",
    "path1 = 'Sign1_full_fitted.csv'\n",
    "data1 = pd.read_csv(path1, usecols=[0,1], header=0)\n",
    "data1['ts'] = pd.to_datetime(data1['ts'])\n",
    "data1['unique_id'] = 'garage1'\n",
    "data1 = data1.rename(columns={'ts': 'ds', 'y1': 'y'})\n",
    "print(data1)\n",
    "data1.plot(x = 'ds', y = 'y')"
   ]
  },
  {
   "cell_type": "code",
   "execution_count": null,
   "id": "566c02ab-3b6d-4c11-bf2b-18233b37cfcd",
   "metadata": {},
   "outputs": [],
   "source": [
    "path2 = 'Sign12_full_fitted.csv'\n",
    "data2 = pd.read_csv(path2, usecols=[0,1], header=0)\n",
    "data2['ts'] = pd.to_datetime(data2['ts'])\n",
    "data2['unique_id'] = 'garage2'\n",
    "data2 = data2.rename(columns={'ts': 'ds', 'y12': 'y'})\n",
    "print(data2)\n",
    "data2.plot(x = 'ds', y = 'y')"
   ]
  },
  {
   "cell_type": "code",
   "execution_count": null,
   "id": "834450c5-601a-4a60-8655-a88c3f98df1f",
   "metadata": {},
   "outputs": [],
   "source": [
    "path3 = 'Sign14_full_fitted.csv'\n",
    "data3 = pd.read_csv(path3, usecols=[0,1], header=0)\n",
    "data2['ts'] = pd.to_datetime(data3['ts'])\n",
    "data3['unique_id'] = 'garage3'\n",
    "data3 = data3.rename(columns={'ts': 'ds', 'y14': 'y'})\n",
    "print(data3)\n",
    "data3.plot(x = 'ds', y = 'y')"
   ]
  },
  {
   "cell_type": "code",
   "execution_count": null,
   "id": "154555cf-a42b-427e-b87f-f06a96a80cb8",
   "metadata": {},
   "outputs": [],
   "source": [
    "df = pd.concat([data1, data2, data3])\n",
    "df['ds'] = pd.to_datetime(df['ds'])\n",
    "df = df.drop('ts', axis=1)\n",
    "\n",
    "train = df.loc[df['ds'] < '2016-11-17']\n",
    "valid = df.loc[(df['ds'] >= '2016-11-17')]\n",
    "\n",
    "h = valid['ds'].nunique()"
   ]
  },
  {
   "cell_type": "code",
   "execution_count": null,
   "id": "d90156c3-fefc-47a2-9cc8-df1f84aefaa3",
   "metadata": {},
   "outputs": [],
   "source": [
    "from lightgbm import LGBMRegressor\n",
    "from mlforecast import MLForecast\n",
    "\n",
    "from window_ops.rolling import rolling_mean, rolling_max, rolling_min\n",
    "\n",
    "models = [LGBMRegressor(random_state=0, n_estimators=100)]\n",
    "\n",
    "model = MLForecast(models=models,\n",
    "                   freq='T',\n",
    "                   lags=[1440],\n",
    "                   date_features=['dayofweek'],\n",
    "                   )\n",
    "\n",
    "model.fit(train, id_col='unique_id', time_col='ds', target_col='y', static_features=[])\n",
    "\n",
    "p = model.predict(horizon=h)\n",
    "p = p.merge(valid[['unique_id', 'ds', 'y']], on=['unique_id', 'ds'], how='left')\n",
    "\n",
    "from sklearn.metrics import mean_absolute_percentage_error\n",
    "mean_absolute_percentage_error(p['y'], p['LGBMRegressor'])"
   ]
  },
  {
   "cell_type": "code",
   "execution_count": null,
   "id": "4a2fae58-8058-4060-b223-90ba445bffc2",
   "metadata": {},
   "outputs": [],
   "source": [
    "from utilsforecast.plotting import plot_series\n",
    "fig = plot_series(train, p, max_ids=4, plot_random=False)\n",
    "fig"
   ]
  },
  {
   "cell_type": "code",
   "execution_count": null,
   "id": "365bf84b-14ff-4dbb-b890-64904292d164",
   "metadata": {},
   "outputs": [],
   "source": [
    "import optuna\n",
    "\n",
    "def objective(trial):\n",
    "    learning_rate = trial.suggest_float('learning_rate', 1e-3, 1e-1)\n",
    "    num_leaves = trial.suggest_int('num_leaves', 2, 256)\n",
    "    min_data_in_leaf = trial.suggest_int('min_data_in_leaf', 1, 100)\n",
    "    bagging_fraction  = trial.suggest_float('bagging_fraction', 0.1, 1.0)\n",
    "    colsample_bytree = trial.suggest_float('colsample_bytree', 0.1, 1.0)\n",
    "    lags = trial.suggest_int('lags', 14, 56, step=7)\n",
    "\n",
    "    models = [LGBMRegressor(random_state=0, n_estimators=500, bagging_freq=1,\n",
    "                            learning_rate=learning_rate, num_leaves=num_leaves,\n",
    "                            min_data_in_leaf=min_data_in_leaf, bagging_fraction=bagging_fraction,\n",
    "                            colsample_bytree=colsample_bytree)]\n",
    "                            \n",
    "\n",
    "    model = MLForecast(models=models,\n",
    "                    freq='T',\n",
    "                    lags=[lags],\n",
    "                    date_features=['dayofweek']\n",
    "                    )\n",
    "\n",
    "\n",
    "    model.fit(train, id_col='unique_id', time_col='ds', target_col='y', static_features=[])\n",
    "\n",
    "    p = model.predict(horizon=h)\n",
    "    p = p.merge(valid[['unique_id', 'ds', 'y']], on=['unique_id', 'ds'], how='left')\n",
    "\n",
    "    error = mean_absolute_percentage_error(p['y'], p['LGBMRegressor'])\n",
    "    \n",
    "    return error\n"
   ]
  },
  {
   "cell_type": "code",
   "execution_count": null,
   "id": "c60369b7-c808-49ce-8b9f-8aae895f5650",
   "metadata": {},
   "outputs": [],
   "source": [
    "study = optuna.create_study(direction='minimize')\n",
    "study.optimize(objective, n_trials=20)"
   ]
  },
  {
   "cell_type": "code",
   "execution_count": null,
   "id": "11ee7bda-3995-4740-82dc-3ac250f2e0b9",
   "metadata": {},
   "outputs": [],
   "source": [
    "study.best_params"
   ]
  },
  {
   "cell_type": "code",
   "execution_count": null,
   "id": "2daaadd0-7bf9-465e-8b0f-f6cd8a90869b",
   "metadata": {},
   "outputs": [],
   "source": [
    "study.best_value"
   ]
  }
 ],
 "metadata": {
  "kernelspec": {
   "display_name": "Python 3 (ipykernel)",
   "language": "python",
   "name": "python3"
  },
  "language_info": {
   "codemirror_mode": {
    "name": "ipython",
    "version": 3
   },
   "file_extension": ".py",
   "mimetype": "text/x-python",
   "name": "python",
   "nbconvert_exporter": "python",
   "pygments_lexer": "ipython3",
   "version": "3.10.13"
  }
 },
 "nbformat": 4,
 "nbformat_minor": 5
}
